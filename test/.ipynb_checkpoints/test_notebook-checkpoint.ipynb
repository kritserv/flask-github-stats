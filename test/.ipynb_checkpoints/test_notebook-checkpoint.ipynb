{
 "cells": [
  {
   "cell_type": "code",
   "execution_count": 1,
   "metadata": {},
   "outputs": [],
   "source": [
    "#!pip install pillow\n",
    "#!pip install bs4"
   ]
  },
  {
   "cell_type": "code",
   "execution_count": 2,
   "metadata": {
    "id": "ypuo6vSp7Tdw"
   },
   "outputs": [],
   "source": [
    "from PIL import Image, ImageDraw, ImageFont\n",
    "import requests\n",
    "from datetime import date\n",
    "from collections import Counter"
   ]
  },
  {
   "cell_type": "markdown",
   "metadata": {},
   "source": [
    "# Function"
   ]
  },
  {
   "cell_type": "code",
   "execution_count": 3,
   "metadata": {},
   "outputs": [],
   "source": [
    "def GetData(username, session):\n",
    "\n",
    "    return_data = [username]\n",
    "    response = session.get(\"https://api.github.com/users/\"+username)\n",
    "    \n",
    "    if response.ok:\n",
    "        follower_count = response.json()[\"followers\"]\n",
    "        if follower_count > 999:\n",
    "            follower_count = str(round(follower_count / 1000, 2)) + \"k\"\n",
    "        else:\n",
    "            follower_count = str(follower_count)\n",
    "        return_data.append(follower_count)\n",
    "    else:\n",
    "        print(\"error! can't get profile data\", response.status_code)\n",
    "\n",
    "    response = session.get(\"https://api.github.com/users/\"+username+\"/repos?per_page=100&sort=updated\")\n",
    "    \n",
    "    if response.ok:\n",
    "        total_stars = 0\n",
    "        all_languages_urls = []\n",
    "        \n",
    "        for repo_data in response.json():\n",
    "            all_languages_urls.append(repo_data[\"languages_url\"])\n",
    "            total_stars += repo_data[\"stargazers_count\"]\n",
    "            \n",
    "        if total_stars > 999:\n",
    "            total_stars = str(round(total_stars / 1000, 2)) + \"k\"\n",
    "        else:\n",
    "            total_stars = str(total_stars)\n",
    "            \n",
    "        all_language_data = []\n",
    "        language_counter = Counter()\n",
    "        \n",
    "        for language_url in all_languages_urls:\n",
    "            response = session.get(language_url)\n",
    "            if response.ok:\n",
    "                all_language_data.append(response.json())\n",
    "            else:\n",
    "                print(\"error! can't get language data\", language_url, response.status_code)\n",
    "            \n",
    "        for language in all_language_data:\n",
    "            language_counter.update(language)\n",
    "        \n",
    "        language_counter = dict(language_counter)\n",
    "        \n",
    "        total_language_amount = sum(language_counter.values())\n",
    "        \n",
    "        language_percentage = {}\n",
    "        for key, val in language_counter.items():\n",
    "            pct = val * 100.0 / total_language_amount\n",
    "            pct = round(pct, 2)\n",
    "            language_percentage[key] = pct\n",
    "        \n",
    "        sorted_language_by_percentage = sorted(language_percentage.items(), key=lambda item: item[1])\n",
    "        sorted_language_by_percentage = sorted_language_by_percentage[::-1]\n",
    "        \n",
    "        return_data.append(total_stars)\n",
    "        return_data.append(sorted_language_by_percentage)\n",
    "    else:\n",
    "        print(\"error! can't get repo data\", response.status_code)\n",
    "\n",
    "    return return_data"
   ]
  },
  {
   "cell_type": "code",
   "execution_count": 5,
   "metadata": {},
   "outputs": [],
   "source": [
    "col = {\n",
    "\t\"black\":\"#171421\",\n",
    "\t\"red\":\"#C01C28\",\n",
    "\t\"green\":\"#26A269\",\n",
    "\t\"brown\":\"#A2734C\",\n",
    "\t\"darkblue\":\"#12488B\",\n",
    "\t\"darkpurple\":\"#A347BA\",\n",
    "\t\"cyan\":\"#2AA1B3\",\n",
    "\t\"lightgrey\":\"#D0CFCC\",\n",
    "\t\"grey\":\"#5E5C64\",\n",
    "\t\"lightred\":\"#F66151\",\n",
    "\t\"lightgreen\":\"#33D17A\",\n",
    "\t\"yellow\":\"#E9AD0C\",\n",
    "\t\"blue\":\"#2A7BDE\",\n",
    "\t\"purple\":\"#C061CB\",\n",
    "\t\"skyblue\":\"#33C7DE\",\n",
    "\t\"white\":\"#FFFFFF\"\n",
    "}"
   ]
  },
  {
   "cell_type": "code",
   "execution_count": 6,
   "metadata": {},
   "outputs": [],
   "source": [
    "def CreateCard(data, pc_name = \"gh\", color_dict = col, main_color = \"cyan\", terminal_opacity = 255, max_show_language = 5):\n",
    "    \n",
    "    username, follower_count, total_stars, sorted_language_by_percentage = data\n",
    "\n",
    "    lines = [username+\"@\"+pc_name,\n",
    "             \"-\"*len(username+\"@\"+pc_name),\n",
    "             \"followers: \"+follower_count,\n",
    "             \"total stars: \"+total_stars\n",
    "            ]\n",
    "\n",
    "    for key, val in sorted_language_by_percentage:\n",
    "        max_show_language -= 1\n",
    "        if max_show_language >= 0:\n",
    "            lines.append(key+\": \"+str(val))\n",
    "\n",
    "    lines.append(\"updated: \"+str(date.today()))\n",
    "\n",
    "    base = Image.new(\"RGBA\",(450,330))\n",
    "    \n",
    "    draw = ImageDraw.Draw(base)\n",
    "    \n",
    "    background_shape = [(0, 0), (450, 330)] \n",
    "    draw.rectangle(background_shape, fill = color_dict[\"brown\"]) \n",
    "    \n",
    "    terminal_shape = [(5, 5), (440, 320)] \n",
    "    terminal_rgba = list(int(color_dict[\"black\"].lstrip('#')[i:i+2], 16) for i in (0, 2, 4))\n",
    "    terminal_rgba.append(terminal_opacity)\n",
    "    terminal_rgba = tuple(terminal_rgba)\n",
    "    draw.rectangle(terminal_shape, fill = terminal_rgba, outline = color_dict[\"grey\"]) \n",
    "    \n",
    "    default = ImageFont.load_default()\n",
    "\n",
    "    x = 220\n",
    "    old_x = x\n",
    "    y = 20\n",
    "    old_y = y\n",
    "    for line in lines:\n",
    "        draw.text((x, y), line, color_dict[\"white\"], font=default)\n",
    "        y += 20\n",
    "    \n",
    "    shape_list = []\n",
    "    \n",
    "    for i in range(2):\n",
    "        for i in range(8):\n",
    "            shape_list.append([x, y, x + 15, y + 12])\n",
    "            x += 17\n",
    "        y += 17\n",
    "        x = x - 1 - 15*9\n",
    "        \n",
    "    for color in col:\n",
    "        draw.rectangle(shape_list.pop(0), fill=color_dict[color]) \n",
    "    \n",
    "    draw.text((20, y+20), username+\"@\"+pc_name+\": _\", color_dict[\"white\"], font=default)\n",
    "    draw.text((20, y+20), username+\" \"+pc_name, col[main_color], font=default)\n",
    "    \n",
    "    x = old_x\n",
    "    y = old_y\n",
    "    for line in lines:\n",
    "        draw.text((x, y), line.replace(\"@\", \" \").replace(\"-\", \"\").split(\":\")[0], color_dict[main_color], font=default)\n",
    "        y += 20\n",
    "\n",
    "    return base"
   ]
  },
  {
   "cell_type": "markdown",
   "metadata": {},
   "source": [
    "# Main"
   ]
  },
  {
   "cell_type": "code",
   "execution_count": 7,
   "metadata": {},
   "outputs": [],
   "source": [
    "session = requests.Session()\n",
    "try:\n",
    "    with open (\"token.txt\", \"r\") as f:\n",
    "        x = f.readline()\n",
    "    session.headers.update({\"Authorization\": \"token \"+x.strip()})\n",
    "except:\n",
    "    pass\n",
    "    \n",
    "username = \"kritserv\"\n",
    "dat = GetData(username, session)"
   ]
  },
  {
   "cell_type": "code",
   "execution_count": 8,
   "metadata": {},
   "outputs": [
    {
     "data": {
      "image/png": "[encoded data removed]",
      "text/plain": [
       "<PIL.Image.Image image mode=RGBA size=450x330>"
      ]
     },
     "execution_count": 8,
     "metadata": {},
     "output_type": "execute_result"
    }
   ],
   "source": [
    "card = CreateCard(data = dat, pc_name = \"GitHub\", color_dict = col, main_color = \"cyan\", terminal_opacity = 255)\n",
    "\n",
    "card"
   ]
  }
 ],
 "metadata": {
  "colab": {
   "authorship_tag": "ABX9TyNzi5MV8VVfOIXfl/iXxzyH",
   "include_colab_link": true,
   "provenance": []
  },
  "kernelspec": {
   "display_name": "Python 3 (ipykernel)",
   "language": "python",
   "name": "python3"
  },
  "language_info": {
   "codemirror_mode": {
    "name": "ipython",
    "version": 3
   },
   "file_extension": ".py",
   "mimetype": "text/x-python",
   "name": "python",
   "nbconvert_exporter": "python",
   "pygments_lexer": "ipython3",
   "version": "3.11.7"
  }
 },
 "nbformat": 4,
 "nbformat_minor": 4
}
