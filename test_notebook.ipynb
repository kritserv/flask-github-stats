{
  "nbformat": 4,
  "nbformat_minor": 0,
  "metadata": {
    "colab": {
      "provenance": [],
      "authorship_tag": "ABX9TyNzi5MV8VVfOIXfl/iXxzyH",
      "include_colab_link": true
    },
    "kernelspec": {
      "name": "python3",
      "display_name": "Python 3"
    },
    "language_info": {
      "name": "python"
    }
  },
  "cells": [
    {
      "cell_type": "markdown",
      "metadata": {
        "id": "view-in-github",
        "colab_type": "text"
      },
      "source": [
        "<a href=\"https://colab.research.google.com/github/kritserv/neoflask/blob/main/test_notebook.ipynb\" target=\"_parent\"><img src=\"https://colab.research.google.com/assets/colab-badge.svg\" alt=\"Open In Colab\"/></a>"
      ]
    },
    {
      "cell_type": "markdown",
      "source": [
        "# install svgwrite, requests, bs4 and date"
      ],
      "metadata": {
        "id": "lod71cf-IGBg"
      }
    },
    {
      "cell_type": "code",
      "source": [
        "!pip install svgwrite"
      ],
      "metadata": {
        "colab": {
          "base_uri": "https://localhost:8080/"
        },
        "id": "lfF-a0OAAyYm",
        "outputId": "fc2decfc-4ae2-4713-d4c7-7294b286c26a"
      },
      "execution_count": 1,
      "outputs": [
        {
          "output_type": "stream",
          "name": "stdout",
          "text": [
            "Requirement already satisfied: svgwrite in /usr/local/lib/python3.10/dist-packages (1.4.3)\n"
          ]
        }
      ]
    },
    {
      "cell_type": "code",
      "execution_count": 2,
      "metadata": {
        "id": "ypuo6vSp7Tdw"
      },
      "outputs": [],
      "source": [
        "from bs4 import BeautifulSoup, NavigableString\n",
        "import svgwrite\n",
        "import requests\n",
        "from datetime import date"
      ]
    },
    {
      "cell_type": "markdown",
      "source": [
        "# functions"
      ],
      "metadata": {
        "id": "KqTfF2GTH_p7"
      }
    },
    {
      "cell_type": "code",
      "source": [
        "text_dict_size = {\n",
        "\t4 : ['i', 'l'],\n",
        "\t5 : ['j', 't', 'I', '\\\\', '/', '!', '[', ']', ' ', '.', ':'],\n",
        "\t6 : ['f', '-', '(', ')', '\"', '}', '{'],\n",
        "\t7 : ['r', '*'],\n",
        "\t8 : ['^'],\n",
        "\t9 : ['c', 'k', 's', 'v', 'x', 'y', 'z', 'J'],\n",
        "\t10 : ['a', 'b', 'd', 'e', 'g', 'h', 'n', 'o', 'p', 'q', 'u', 'L', '#', '?', '1', '2', '3', '4', '5', '6', '7', '8', '9', '0'],\n",
        "\t11 : ['F', 'T', 'Z', '+', '=', '>', '<'],\n",
        "\t12 : ['B', 'E', 'K', 'P', 'S', 'V', 'X', 'Y', '&', '_', '&'],\n",
        "\t13 : ['w', 'C', 'D', 'H', 'N', 'R', 'U'],\n",
        "\t14 : ['A', 'G', 'O', 'Q', '★'],\n",
        "\t15 : ['m', 'M'],\n",
        "\t16 : ['%'],\n",
        "\t17 : ['W'],\n",
        "\t18 : ['@', '$']\n",
        "}\n",
        "\n",
        "def TxtWidth(txt):\n",
        "\ttotal_length = 0\n",
        "\tused_dict = text_dict_size\n",
        "\tfor char in txt:\n",
        "\t\tfor length in used_dict:\n",
        "\t\t\tif char in used_dict[length]:\n",
        "\t\t\t\ttotal_length+=length\n",
        "\treturn total_length"
      ],
      "metadata": {
        "id": "3xxaMqsd_x-x"
      },
      "execution_count": 3,
      "outputs": []
    },
    {
      "cell_type": "code",
      "source": [
        "def AddTxt(txt, pos, col_weight, dwg):\n",
        "\tcolor, weight = col_weight\n",
        "\tdwg.add(dwg.text(txt, insert=pos, fill=color, font_weight=weight, font_family=\"Arial\"))\n",
        "\n",
        "def AddRect(pos, size, color, dwg):\n",
        "\tdwg.add(dwg.rect(insert=pos, size=size, fill=color))\n",
        "\n",
        "def AddCss(dwg):\n",
        "\thtml_string = dwg.tostring()\n",
        "\tsoup = BeautifulSoup(html_string, 'html.parser')\n",
        "\tsvg_tag = soup.find('svg')\n",
        "\n",
        "\tstyle_tag = soup.new_tag('style')\n",
        "\n",
        "\tCSS = \"\"\".blink {animation: blink 1s steps(2, start) infinite;} @keyframes blink { to { visibility: hidden;}}\"\"\"\n",
        "\n",
        "\tstyle_tag.append(NavigableString(CSS))\n",
        "\n",
        "\tsvg_tag.append(style_tag)\n",
        "\tsvg = str(svg_tag)\n",
        "\n",
        "\treturn svg"
      ],
      "metadata": {
        "id": "LNCYjyPy_bn4"
      },
      "execution_count": 4,
      "outputs": []
    },
    {
      "cell_type": "code",
      "source": [
        "def DrawSvg(context, bg_col, main_col, second_col, col, size_x, size_y):\n",
        "\n",
        "\tdwg = svgwrite.Drawing(profile='tiny')\n",
        "\tneed_animate_css = False\n",
        "\n",
        "\tx_pos = 400\n",
        "\n",
        "\tAddRect((20, 0), (size_x, size_y), bg_col, dwg)\n",
        "\n",
        "\tAddTxt(context['username'], (x_pos, 20), (main_col, 'bold'), dwg)\n",
        "\tAddTxt('@', (x_pos+TxtWidth(context['username'], ), 20), (second_col, 'normal'), dwg)\n",
        "\tAddTxt(context['pc_name'], (x_pos+TxtWidth(context['username']+'@', ), 20), (main_col, 'bold'), dwg)\n",
        "\n",
        "\tline = ''\n",
        "\twhile TxtWidth(line, ) < TxtWidth(f\"{context['username']}@{context['pc_name']}\", )+20:\n",
        "\t\tline += '_ '\n",
        "\n",
        "\tAddTxt(line, (x_pos, 50), (second_col, 'normal'), dwg)\n",
        "\n",
        "\tAddTxt('last year contrib: ', (x_pos, 80), (main_col, 'bold'), dwg)\n",
        "\tAddTxt(context['contrib'], (x_pos+TxtWidth('last year contrib: ', ), 80), (second_col, 'normal'), dwg)\n",
        "\n",
        "\tAddTxt('info of top10 repos: ', (x_pos, 110), (main_col, 'bold'), dwg)\n",
        "\tAddTxt('by stargaze', (x_pos+TxtWidth('info of top10 repos: ', ), 110), (second_col, 'normal'), dwg)\n",
        "\n",
        "\tAddTxt('Total Stars: ', (x_pos, 140), (main_col, 'bold'), dwg)\n",
        "\tAddTxt(str(context['all_stars'])+' ★', (x_pos+TxtWidth('Total Stars: ', ), 140), (second_col, 'normal'), dwg)\n",
        "\n",
        "\tcontext['all_lang'] = context['all_lang'].replace(\"'\", \"\").replace('{','').replace('}','').split(',')\n",
        "\ty_pos = 170\n",
        "\n",
        "\tcount = 0\n",
        "\tfor lang_and_amount in list(reversed(context['all_lang'])):\n",
        "\t\t# break if github user have more than 5 languages\n",
        "\t\tcount += 1\n",
        "\t\tif count > 5:\n",
        "\t\t\tbreak\n",
        "\t\tlang, amount = lang_and_amount.split(\":\")\n",
        "\n",
        "\t\tAddTxt(f'{lang}: ', (x_pos, y_pos), (main_col, 'bold'), dwg)\n",
        "\t\tAddTxt(amount, (x_pos+TxtWidth(f'{lang}: ', ), y_pos), (second_col, 'normal'), dwg)\n",
        "\t\ty_pos += 30\n",
        "\n",
        "\tAddTxt('date: ', (x_pos, y_pos), (main_col, 'bold'), dwg)\n",
        "\tAddTxt(context['latest_update'], (x_pos+TxtWidth('date: ', ), y_pos), (second_col, 'normal'), dwg)\n",
        "\ty_pos += 30\n",
        "\n",
        "\tcolor_in_row = 0\n",
        "\tfor color in col:\n",
        "\t\tif color_in_row > 7:\n",
        "\t\t\tcolor_in_row = 0\n",
        "\t\t\ty_pos += 30\n",
        "\t\t\tx_pos -= 30*8\n",
        "\t\tAddRect((x_pos, y_pos), (30, 20), col[color], dwg)\n",
        "\t\tcolor_in_row += 1\n",
        "\t\tx_pos += 30\n",
        "\n",
        "\ty_pos += 50\n",
        "\tAddTxt(context['username'], (20, y_pos), (main_col, 'bold'), dwg)\n",
        "\tAddTxt('@', (20+TxtWidth(context['username'], ), y_pos), (second_col, 'normal'), dwg)\n",
        "\tAddTxt(context['pc_name']+':', (20+TxtWidth(context['username']+'@', ), y_pos), (main_col, 'bold'), dwg)\n",
        "\tAddTxt('~$', (20+TxtWidth(f\"{context['username']}@{context['pc_name']}:\", ), y_pos), (second_col, 'bold'), dwg)\n",
        "\n",
        "\tblinktxt = dwg.text('|', insert=(20+TxtWidth(f\"{context['username']}@{context['pc_name']}:~$  \", ), y_pos), fill=main_col, font_weight='bold', font_family=\"Arial\", class_='blink')\n",
        "\tdwg.add(blinktxt)\n",
        "\n",
        "\tdwg = AddCss(dwg)\n",
        "\n",
        "\treturn dwg"
      ],
      "metadata": {
        "id": "JYkJGoYnAq8M"
      },
      "execution_count": 5,
      "outputs": []
    },
    {
      "cell_type": "code",
      "source": [
        "def ScrapDataFromGithub(username):\n",
        "\n",
        "\turl = \"https://github.com\"\n",
        "\tresponse = requests.get(f'{url}/{username}')\n",
        "\n",
        "\tif response.status_code != 200:\n",
        "\t\treturn {'username': username, 'message': response.status_code}, 201\n",
        "\n",
        "\telse:\n",
        "\t\tsoup = BeautifulSoup(response.content, \"html.parser\")\n",
        "\n",
        "\t\tprofile_img = soup.find(\"img\", class_=\"avatar-user\")[\"src\"]\n",
        "\t\tlast_year_contrib = soup.find(\"div\", class_=\"js-yearly-contributions\").find(\"h2\").text.split(\"\\n\")[1].strip()\n",
        "\n",
        "\t\trepo_url_response = requests.get(f'{url}/{username}/?tab=repositories&sort=stargazers')\n",
        "\n",
        "\t\tif repo_url_response.status_code != 200:\n",
        "\t\t\treturn {'username': username, 'message': repo_url_response.status_code}, 201\n",
        "\n",
        "\t\telse:\n",
        "\t\t\trepo_soup = BeautifulSoup(repo_url_response.content, \"html.parser\")\n",
        "\t\t\trepo_elem_list = repo_soup.find(id=\"user-repositories-list\").find_all(\"li\")\n",
        "\n",
        "\t\t\tused_language_count_dict = {}\n",
        "\t\t\ttotal_stars = 0\n",
        "\t\t\ttotal_amounts = 0\n",
        "\n",
        "\t\t\ti = 0\n",
        "\t\t\tfor repo_elem in repo_elem_list:\n",
        "\n",
        "\t\t\t\t# Top 10 repo by stargazer\n",
        "\t\t\t\tif i>=10:\n",
        "\t\t\t\t\tbreak\n",
        "\n",
        "\t\t\t\telse:\n",
        "\t\t\t\t\trepo = repo_elem.find(\"a\")[\"href\"]\n",
        "\t\t\t\t\trepo_url_response = requests.get(f'{url}/{repo}')\n",
        "\t\t\t\t\tif repo_url_response.status_code != 200:\n",
        "\t\t\t\t\t\treturn {'username': username, 'message': response.status_code}, 201\n",
        "\n",
        "\t\t\t\t\telse:\n",
        "\t\t\t\t\t\trepo_soup = BeautifulSoup(repo_url_response.content, \"html.parser\")\n",
        "\t\t\t\t\t\trepo_star = repo_soup.find(id=\"repo-stars-counter-star\").text\n",
        "\t\t\t\t\t\tif 'k' in repo_star:\n",
        "\t\t\t\t\t\t\trepo_star = repo_star[0:-1]\n",
        "\t\t\t\t\t\t\trepo_star = float(repo_star)*1000\n",
        "\t\t\t\t\t\telse:\n",
        "\t\t\t\t\t\t\trepo_star = float(repo_star)\n",
        "\t\t\t\t\t\ttotal_stars += repo_star\n",
        "\t\t\t\t\t\tfor used_language_elem in repo_soup.find_all(\"a\", class_=\"d-inline-flex\"):\n",
        "\t\t\t\t\t\t\tlanguage, amount = used_language_elem.find_all(\"span\")\n",
        "\t\t\t\t\t\t\ttry:\n",
        "\t\t\t\t\t\t\t\tused_language_count_dict[language.text] += float(amount.text[0:-1])\n",
        "\t\t\t\t\t\t\t\ttotal_amounts += float(amount.text[0:-1])\n",
        "\t\t\t\t\t\t\texcept:\n",
        "\t\t\t\t\t\t\t\tused_language_count_dict[language.text] = float(amount.text[0:-1])\n",
        "\t\t\t\t\t\t\t\ttotal_amounts += float(amount.text[0:-1])\n",
        "\n",
        "\t\t\t\ti+=1\n",
        "\n",
        "\t\t\tif total_stars > 999:\n",
        "\t\t\t\ttotal_stars = str(round(total_stars/1000, 2)) + 'k'\n",
        "\t\t\telse:\n",
        "\t\t\t\ttotal_stars = str(int(total_stars))\n",
        "\t\t\tsorted_language = sorted(used_language_count_dict.items(), key=lambda item: item[1])\n",
        "\t\t\tused_language_count_dict = dict(sorted_language)\n",
        "\t\t\tfor language in used_language_count_dict:\n",
        "\t\t\t\tused_language_count_dict[language] = str(round(used_language_count_dict[language]/total_amounts*100, 2))\n",
        "\n",
        "\t\t\treturn (username, profile_img, last_year_contrib, total_stars, str(used_language_count_dict), str(date.today()))"
      ],
      "metadata": {
        "id": "hGB8GtTSKSov"
      },
      "execution_count": 6,
      "outputs": []
    },
    {
      "cell_type": "markdown",
      "source": [
        "# Test"
      ],
      "metadata": {
        "id": "ltPEt47VIC-Z"
      }
    },
    {
      "cell_type": "code",
      "source": [
        "data = ScrapDataFromGithub('kritserv')"
      ],
      "metadata": {
        "id": "6Bq1FXgmKWbl"
      },
      "execution_count": 7,
      "outputs": []
    },
    {
      "cell_type": "code",
      "source": [
        "print(data)"
      ],
      "metadata": {
        "colab": {
          "base_uri": "https://localhost:8080/"
        },
        "id": "oXXoi9Q-UaF6",
        "outputId": "896db3e6-e101-425a-ce9b-ebbb44dde011"
      },
      "execution_count": 8,
      "outputs": [
        {
          "output_type": "stream",
          "name": "stdout",
          "text": [
            "('kritserv', 'https://avatars.githubusercontent.com/u/122365475?s=64&v=4', '527', '1', \"{'CSS': '5.54', 'Jupyter Notebook': '7.6', 'HTML': '13.71', 'Python': '30.07', 'Shell': '43.08'}\", '2023-11-15')\n"
          ]
        }
      ]
    },
    {
      "cell_type": "code",
      "source": [
        "col = {\n",
        "\t\"black\":\"#171421\",\n",
        "\t\"red\":\"#C01C28\",\n",
        "\t\"green\":\"#26A269\",\n",
        "\t\"brown\":\"#A2734C\",\n",
        "\t\"darkblue\":\"#12488B\",\n",
        "\t\"darkpurple\":\"#A347BA\",\n",
        "\t\"cyan\":\"#2AA1B3\",\n",
        "\t\"lightgrey\":\"#D0CFCC\",\n",
        "\t\"grey\":\"#5E5C64\",\n",
        "\t\"lightred\":\"#F66151\",\n",
        "\t\"lightgreen\":\"#33D17A\",\n",
        "\t\"yellow\":\"#E9AD0C\",\n",
        "\t\"blue\":\"#2A7BDE\",\n",
        "\t\"purple\":\"#C061CB\",\n",
        "\t\"skyblue\":\"#33C7DE\",\n",
        "\t\"white\":\"#FFFFFF\"\n",
        "}\n",
        "\n",
        "result_context = {'username': data[0],\n",
        "                  'contrib': data[2],\n",
        "                  'all_stars': data[3],\n",
        "                  'all_lang': data[4],\n",
        "                  'latest_update': data[5],\n",
        "                  'pc_name': 'test'\n",
        "                  }\n",
        "\n",
        "result = DrawSvg(result_context, col['black'], col['cyan'], col['white'], col, 700, 450)\n",
        "# add terminal transparency\n",
        "result = result.replace('></rect>', ' fill-opacity=\"0.95\"></rect>')\n",
        "# add background image\n",
        "result = result.replace('</defs>','</defs><image href=\"bg_image.jpg\" height=\"500\" x=\"0\" y=\"0\"/>')\n",
        "# add foreground image\n",
        "result = result.replace('</rect><text','</rect><image href=\"fg_image.jpg\" height=\"330\" x=\"40\" y=\"20\"/><text')\n",
        "print(result)"
      ],
      "metadata": {
        "colab": {
          "base_uri": "https://localhost:8080/"
        },
        "id": "Zx2ujzZbCx6n",
        "outputId": "a29c126c-8b63-4164-fc18-59ade7c8195a"
      },
      "execution_count": 9,
      "outputs": [
        {
          "output_type": "stream",
          "name": "stdout",
          "text": [
            "<svg baseprofile=\"tiny\" height=\"100%\" version=\"1.2\" width=\"100%\" xmlns=\"http://www.w3.org/2000/svg\" xmlns:ev=\"http://www.w3.org/2001/xml-events\" xmlns:xlink=\"http://www.w3.org/1999/xlink\"><defs></defs><image href=\"bg_image.jpg\" height=\"500\" x=\"0\" y=\"0\"/><rect fill=\"#171421\" height=\"450\" width=\"700\" x=\"20\" y=\"0\" fill-opacity=\"0.95\"></rect><image href=\"fg_image.jpg\" height=\"330\" x=\"40\" y=\"20\"/><text fill=\"#2AA1B3\" font-family=\"Arial\" font-weight=\"bold\" x=\"400\" y=\"20\">kritserv</text><text fill=\"#FFFFFF\" font-family=\"Arial\" font-weight=\"normal\" x=\"460\" y=\"20\">@</text><text fill=\"#2AA1B3\" font-family=\"Arial\" font-weight=\"bold\" x=\"478\" y=\"20\">test</text><text fill=\"#FFFFFF\" font-family=\"Arial\" font-weight=\"normal\" x=\"400\" y=\"50\">_ _ _ _ _ _ _ _ </text><text fill=\"#2AA1B3\" font-family=\"Arial\" font-weight=\"bold\" x=\"400\" y=\"80\">last year contrib: </text><text fill=\"#FFFFFF\" font-family=\"Arial\" font-weight=\"normal\" x=\"539\" y=\"80\">527</text><text fill=\"#2AA1B3\" font-family=\"Arial\" font-weight=\"bold\" x=\"400\" y=\"110\">info of top10 repos: </text><text fill=\"#FFFFFF\" font-family=\"Arial\" font-weight=\"normal\" x=\"562\" y=\"110\">by stargaze</text><text fill=\"#2AA1B3\" font-family=\"Arial\" font-weight=\"bold\" x=\"400\" y=\"140\">Total Stars: </text><text fill=\"#FFFFFF\" font-family=\"Arial\" font-weight=\"normal\" x=\"498\" y=\"140\">1 ★</text><text fill=\"#2AA1B3\" font-family=\"Arial\" font-weight=\"bold\" x=\"400\" y=\"170\"> Shell: </text><text fill=\"#FFFFFF\" font-family=\"Arial\" font-weight=\"normal\" x=\"455\" y=\"170\"> 43.08</text><text fill=\"#2AA1B3\" font-family=\"Arial\" font-weight=\"bold\" x=\"400\" y=\"200\"> Python: </text><text fill=\"#FFFFFF\" font-family=\"Arial\" font-weight=\"normal\" x=\"471\" y=\"200\"> 30.07</text><text fill=\"#2AA1B3\" font-family=\"Arial\" font-weight=\"bold\" x=\"400\" y=\"230\"> HTML: </text><text fill=\"#FFFFFF\" font-family=\"Arial\" font-weight=\"normal\" x=\"464\" y=\"230\"> 13.71</text><text fill=\"#2AA1B3\" font-family=\"Arial\" font-weight=\"bold\" x=\"400\" y=\"260\"> Jupyter Notebook: </text><text fill=\"#FFFFFF\" font-family=\"Arial\" font-weight=\"normal\" x=\"557\" y=\"260\"> 7.6</text><text fill=\"#2AA1B3\" font-family=\"Arial\" font-weight=\"bold\" x=\"400\" y=\"290\">CSS: </text><text fill=\"#FFFFFF\" font-family=\"Arial\" font-weight=\"normal\" x=\"447\" y=\"290\"> 5.54</text><text fill=\"#2AA1B3\" font-family=\"Arial\" font-weight=\"bold\" x=\"400\" y=\"320\">date: </text><text fill=\"#FFFFFF\" font-family=\"Arial\" font-weight=\"normal\" x=\"445\" y=\"320\">2023-11-15</text><rect fill=\"#171421\" height=\"20\" width=\"30\" x=\"400\" y=\"350\" fill-opacity=\"0.95\"></rect><rect fill=\"#C01C28\" height=\"20\" width=\"30\" x=\"430\" y=\"350\" fill-opacity=\"0.95\"></rect><rect fill=\"#26A269\" height=\"20\" width=\"30\" x=\"460\" y=\"350\" fill-opacity=\"0.95\"></rect><rect fill=\"#A2734C\" height=\"20\" width=\"30\" x=\"490\" y=\"350\" fill-opacity=\"0.95\"></rect><rect fill=\"#12488B\" height=\"20\" width=\"30\" x=\"520\" y=\"350\" fill-opacity=\"0.95\"></rect><rect fill=\"#A347BA\" height=\"20\" width=\"30\" x=\"550\" y=\"350\" fill-opacity=\"0.95\"></rect><rect fill=\"#2AA1B3\" height=\"20\" width=\"30\" x=\"580\" y=\"350\" fill-opacity=\"0.95\"></rect><rect fill=\"#D0CFCC\" height=\"20\" width=\"30\" x=\"610\" y=\"350\" fill-opacity=\"0.95\"></rect><rect fill=\"#5E5C64\" height=\"20\" width=\"30\" x=\"400\" y=\"380\" fill-opacity=\"0.95\"></rect><rect fill=\"#F66151\" height=\"20\" width=\"30\" x=\"430\" y=\"380\" fill-opacity=\"0.95\"></rect><rect fill=\"#33D17A\" height=\"20\" width=\"30\" x=\"460\" y=\"380\" fill-opacity=\"0.95\"></rect><rect fill=\"#E9AD0C\" height=\"20\" width=\"30\" x=\"490\" y=\"380\" fill-opacity=\"0.95\"></rect><rect fill=\"#2A7BDE\" height=\"20\" width=\"30\" x=\"520\" y=\"380\" fill-opacity=\"0.95\"></rect><rect fill=\"#C061CB\" height=\"20\" width=\"30\" x=\"550\" y=\"380\" fill-opacity=\"0.95\"></rect><rect fill=\"#33C7DE\" height=\"20\" width=\"30\" x=\"580\" y=\"380\" fill-opacity=\"0.95\"></rect><rect fill=\"#FFFFFF\" height=\"20\" width=\"30\" x=\"610\" y=\"380\" fill-opacity=\"0.95\"></rect><image href=\"fg_image.jpg\" height=\"330\" x=\"40\" y=\"20\"/><text fill=\"#2AA1B3\" font-family=\"Arial\" font-weight=\"bold\" x=\"20\" y=\"430\">kritserv</text><text fill=\"#FFFFFF\" font-family=\"Arial\" font-weight=\"normal\" x=\"80\" y=\"430\">@</text><text fill=\"#2AA1B3\" font-family=\"Arial\" font-weight=\"bold\" x=\"98\" y=\"430\">test:</text><text fill=\"#FFFFFF\" font-family=\"Arial\" font-weight=\"bold\" x=\"132\" y=\"430\">~$</text><text class=\"blink\" fill=\"#2AA1B3\" font-family=\"Arial\" font-weight=\"bold\" x=\"160\" y=\"430\">|</text><style>.blink {animation: blink 1s steps(2, start) infinite;} @keyframes blink { to { visibility: hidden;}}</style></svg>\n"
          ]
        }
      ]
    },
    {
      "cell_type": "code",
      "source": [
        "with open('githubstat_card.svg', 'w') as f:\n",
        "    f.write(result)"
      ],
      "metadata": {
        "id": "SsHdeWdArmfg"
      },
      "execution_count": 10,
      "outputs": []
    },
    {
      "cell_type": "code",
      "source": [
        "from google.colab import files\n",
        "#files.download('githubstat_card.svg')"
      ],
      "metadata": {
        "id": "X97PFd6XtP-p"
      },
      "execution_count": 11,
      "outputs": []
    }
  ]
}